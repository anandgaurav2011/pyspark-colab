{
  "nbformat": 4,
  "nbformat_minor": 0,
  "metadata": {
    "colab": {
      "provenance": [],
      "include_colab_link": true
    },
    "kernelspec": {
      "name": "python3",
      "display_name": "Python 3"
    },
    "language_info": {
      "name": "python"
    }
  },
  "cells": [
    {
      "cell_type": "markdown",
      "metadata": {
        "id": "view-in-github",
        "colab_type": "text"
      },
      "source": [
        "<a href=\"https://colab.research.google.com/github/anandgaurav2011/pyspark-colab/blob/main/spark_basic_mapreduce.ipynb\" target=\"_parent\"><img src=\"https://colab.research.google.com/assets/colab-badge.svg\" alt=\"Open In Colab\"/></a>"
      ]
    },
    {
      "cell_type": "code",
      "execution_count": null,
      "metadata": {
        "colab": {
          "base_uri": "https://localhost:8080/"
        },
        "id": "-b-2eZE-FuEM",
        "outputId": "d248df12-74f1-464f-9cce-0c965b3af98c"
      },
      "outputs": [
        {
          "output_type": "stream",
          "name": "stdout",
          "text": [
            "Looking in indexes: https://pypi.org/simple, https://us-python.pkg.dev/colab-wheels/public/simple/\n",
            "Collecting pyspark\n",
            "  Downloading pyspark-3.3.1.tar.gz (281.4 MB)\n",
            "\u001b[2K     \u001b[90m━━━━━━━━━━━━━━━━━━━━━━━━━━━━━━━━━━━━━━━\u001b[0m \u001b[32m281.4/281.4 MB\u001b[0m \u001b[31m5.2 MB/s\u001b[0m eta \u001b[36m0:00:00\u001b[0m\n",
            "\u001b[?25h  Preparing metadata (setup.py) ... \u001b[?25l\u001b[?25hdone\n",
            "Collecting py4j==0.10.9.5\n",
            "  Downloading py4j-0.10.9.5-py2.py3-none-any.whl (199 kB)\n",
            "\u001b[2K     \u001b[90m━━━━━━━━━━━━━━━━━━━━━━━━━━━━━━━━━━━━━━\u001b[0m \u001b[32m199.7/199.7 KB\u001b[0m \u001b[31m15.6 MB/s\u001b[0m eta \u001b[36m0:00:00\u001b[0m\n",
            "\u001b[?25hBuilding wheels for collected packages: pyspark\n",
            "  Building wheel for pyspark (setup.py) ... \u001b[?25l\u001b[?25hdone\n",
            "  Created wheel for pyspark: filename=pyspark-3.3.1-py2.py3-none-any.whl size=281845512 sha256=471ab77374d07d0ac417457513affb6a8cc59f6a245b5f49f457dc31b1bd8e82\n",
            "  Stored in directory: /root/.cache/pip/wheels/43/dc/11/ec201cd671da62fa9c5cc77078235e40722170ceba231d7598\n",
            "Successfully built pyspark\n",
            "Installing collected packages: py4j, pyspark\n",
            "Successfully installed py4j-0.10.9.5 pyspark-3.3.1\n"
          ]
        }
      ],
      "source": [
        "pip install pyspark"
      ]
    },
    {
      "cell_type": "code",
      "source": [
        "from pyspark.sql import SparkSession"
      ],
      "metadata": {
        "id": "pwUt5QnNFwNN"
      },
      "execution_count": null,
      "outputs": []
    },
    {
      "cell_type": "code",
      "source": [
        "#Create spark session object \n",
        "spark =SparkSession.builder.master(\"local[4]\")\\\n",
        "  .appName('Vaibhav')\\\n",
        "  .getOrCreate()"
      ],
      "metadata": {
        "id": "W_yoz_zZFylp"
      },
      "execution_count": null,
      "outputs": []
    },
    {
      "cell_type": "code",
      "source": [
        "#Spark Context Object \n",
        "sc=spark.sparkContext\n"
      ],
      "metadata": {
        "id": "CI4jiN5UF3rJ"
      },
      "execution_count": null,
      "outputs": []
    },
    {
      "cell_type": "code",
      "source": [
        "#create RDD from list \n",
        "rdd=sc.parallelize([1,2,3,4,5,6,7,8])\n",
        "print(rdd.collect())\n",
        "print(\"number of partititionss :\",rdd.getNumPartitions())"
      ],
      "metadata": {
        "colab": {
          "base_uri": "https://localhost:8080/"
        },
        "id": "SMMdUuciF6gC",
        "outputId": "3be9b898-1652-46ba-e519-4fe258eac52b"
      },
      "execution_count": null,
      "outputs": [
        {
          "output_type": "stream",
          "name": "stdout",
          "text": [
            "[1, 2, 3, 4, 5, 6, 7, 8]\n",
            "number of partititionss : 4\n"
          ]
        }
      ]
    },
    {
      "cell_type": "code",
      "source": [
        "rdd2=rdd.repartition(2)\n",
        "print(\"number of partititionss :\",rdd2.getNumPartitions())"
      ],
      "metadata": {
        "colab": {
          "base_uri": "https://localhost:8080/"
        },
        "id": "Gq6htmltF9fQ",
        "outputId": "cdccf929-5999-48fe-ce97-ce5f2af330f1"
      },
      "execution_count": null,
      "outputs": [
        {
          "output_type": "stream",
          "name": "stdout",
          "text": [
            "number of partititionss : 2\n"
          ]
        }
      ]
    },
    {
      "cell_type": "code",
      "source": [
        "rdd.saveAsTextFile('data1')"
      ],
      "metadata": {
        "id": "TMXxHxYzF_h-"
      },
      "execution_count": null,
      "outputs": []
    },
    {
      "cell_type": "code",
      "source": [
        "rdd2.saveAsTextFile('data2')"
      ],
      "metadata": {
        "id": "wiTnlNJxGJRw"
      },
      "execution_count": null,
      "outputs": []
    },
    {
      "cell_type": "code",
      "source": [
        "rdd=sc.textFile('/content/drive/MyDrive/Colab Notebooks/spark/dataset/fruit.txt')"
      ],
      "metadata": {
        "id": "tD6uySFqGOm9"
      },
      "execution_count": null,
      "outputs": []
    },
    {
      "cell_type": "code",
      "source": [
        "rdd.collect()"
      ],
      "metadata": {
        "colab": {
          "base_uri": "https://localhost:8080/"
        },
        "id": "AMkcdw2yIDIv",
        "outputId": "3c291633-5378-4b21-dbcf-ae9e04083f54"
      },
      "execution_count": null,
      "outputs": [
        {
          "output_type": "execute_result",
          "data": {
            "text/plain": [
              "['Apple Orange Mango',\n",
              " 'Orange Grapes Plum',\n",
              " 'Apple Plum Mango',\n",
              " 'Apple Apple Plum',\n",
              " '',\n",
              " '']"
            ]
          },
          "metadata": {},
          "execution_count": 17
        }
      ]
    },
    {
      "cell_type": "code",
      "source": [
        "rdd1=sc.textFile('/content/drive/MyDrive/Colab Notebooks/spark/dataset/fruits1.txt,/content/drive/MyDrive/Colab Notebooks/spark/dataset/fruits2.txt')"
      ],
      "metadata": {
        "id": "9FLRZY_AIMZN"
      },
      "execution_count": null,
      "outputs": []
    },
    {
      "cell_type": "code",
      "source": [
        "rdd1.collect()"
      ],
      "metadata": {
        "colab": {
          "base_uri": "https://localhost:8080/"
        },
        "id": "gIZoALNkIear",
        "outputId": "576b45d9-de17-4efb-f67f-ef5759c20272"
      },
      "execution_count": null,
      "outputs": [
        {
          "output_type": "execute_result",
          "data": {
            "text/plain": [
              "['Pineapple Apple Mango',\n",
              " 'Mango Banana Berry',\n",
              " 'Cherry Mango Apple',\n",
              " 'Banana Apple Cherry',\n",
              " 'आंबा केळी संत्रा लिंबू \\tपेरू',\n",
              " 'पेरू आंबा केळी लिंबू',\n",
              " 'संत्रा पेरू सफरचंद',\n",
              " 'सफरचंद पेरू केळी',\n",
              " 'सफरचंद संत्र']"
            ]
          },
          "metadata": {},
          "execution_count": 19
        }
      ]
    },
    {
      "cell_type": "code",
      "source": [
        "rdd2=rdd1.flatMap(lambda x: x.split())\n",
        "rdd2.collect()"
      ],
      "metadata": {
        "colab": {
          "base_uri": "https://localhost:8080/"
        },
        "id": "23w_B4cwIf4k",
        "outputId": "7427e3b9-8646-475a-876a-c6ba5e9475e7"
      },
      "execution_count": null,
      "outputs": [
        {
          "output_type": "execute_result",
          "data": {
            "text/plain": [
              "['Pineapple',\n",
              " 'Apple',\n",
              " 'Mango',\n",
              " 'Mango',\n",
              " 'Banana',\n",
              " 'Berry',\n",
              " 'Cherry',\n",
              " 'Mango',\n",
              " 'Apple',\n",
              " 'Banana',\n",
              " 'Apple',\n",
              " 'Cherry',\n",
              " 'आंबा',\n",
              " 'केळी',\n",
              " 'संत्रा',\n",
              " 'लिंबू',\n",
              " 'पेरू',\n",
              " 'पेरू',\n",
              " 'आंबा',\n",
              " 'केळी',\n",
              " 'लिंबू',\n",
              " 'संत्रा',\n",
              " 'पेरू',\n",
              " 'सफरचंद',\n",
              " 'सफरचंद',\n",
              " 'पेरू',\n",
              " 'केळी',\n",
              " 'सफरचंद',\n",
              " 'संत्र']"
            ]
          },
          "metadata": {},
          "execution_count": 27
        }
      ]
    },
    {
      "cell_type": "code",
      "source": [
        "rdd3=rdd2.map(lambda x: (x,1))\n",
        "rdd3.collect()"
      ],
      "metadata": {
        "colab": {
          "base_uri": "https://localhost:8080/"
        },
        "id": "DYKeygkUKVsQ",
        "outputId": "7c08e90c-6296-4747-b1ed-b9526af98d5a"
      },
      "execution_count": null,
      "outputs": [
        {
          "output_type": "execute_result",
          "data": {
            "text/plain": [
              "[('Pineapple', 1),\n",
              " ('Apple', 1),\n",
              " ('Mango', 1),\n",
              " ('Mango', 1),\n",
              " ('Banana', 1),\n",
              " ('Berry', 1),\n",
              " ('Cherry', 1),\n",
              " ('Mango', 1),\n",
              " ('Apple', 1),\n",
              " ('Banana', 1),\n",
              " ('Apple', 1),\n",
              " ('Cherry', 1),\n",
              " ('आंबा', 1),\n",
              " ('केळी', 1),\n",
              " ('संत्रा', 1),\n",
              " ('लिंबू', 1),\n",
              " ('पेरू', 1),\n",
              " ('पेरू', 1),\n",
              " ('आंबा', 1),\n",
              " ('केळी', 1),\n",
              " ('लिंबू', 1),\n",
              " ('संत्रा', 1),\n",
              " ('पेरू', 1),\n",
              " ('सफरचंद', 1),\n",
              " ('सफरचंद', 1),\n",
              " ('पेरू', 1),\n",
              " ('केळी', 1),\n",
              " ('सफरचंद', 1),\n",
              " ('संत्र', 1)]"
            ]
          },
          "metadata": {},
          "execution_count": 28
        }
      ]
    },
    {
      "cell_type": "code",
      "source": [
        "rdd4=rdd3.reduceByKey(lambda a,b :a+b)"
      ],
      "metadata": {
        "id": "DnSqTSvPK0dr"
      },
      "execution_count": null,
      "outputs": []
    },
    {
      "cell_type": "code",
      "source": [
        "rdd4.collect()"
      ],
      "metadata": {
        "colab": {
          "base_uri": "https://localhost:8080/"
        },
        "id": "TJndI-tzLMAx",
        "outputId": "029f25a7-2c6d-471d-bd84-a30e4f4b0c2d"
      },
      "execution_count": null,
      "outputs": [
        {
          "output_type": "execute_result",
          "data": {
            "text/plain": [
              "[('Apple', 3),\n",
              " ('केळी', 3),\n",
              " ('सफरचंद', 3),\n",
              " ('Pineapple', 1),\n",
              " ('Banana', 2),\n",
              " ('आंबा', 2),\n",
              " ('संत्रा', 2),\n",
              " ('संत्र', 1),\n",
              " ('Mango', 3),\n",
              " ('Berry', 1),\n",
              " ('Cherry', 2),\n",
              " ('लिंबू', 2),\n",
              " ('पेरू', 4)]"
            ]
          },
          "metadata": {},
          "execution_count": 30
        }
      ]
    },
    {
      "cell_type": "code",
      "source": [
        "rdd5=rdd4.map(lambda x:(x[1],x[0])).sortByKey()\n",
        "rdd5.collect()"
      ],
      "metadata": {
        "colab": {
          "base_uri": "https://localhost:8080/"
        },
        "id": "etsXK2KtLNNU",
        "outputId": "a2e2445e-d975-4047-a8b7-12988ee382ae"
      },
      "execution_count": null,
      "outputs": [
        {
          "output_type": "execute_result",
          "data": {
            "text/plain": [
              "[(1, 'Pineapple'),\n",
              " (1, 'संत्र'),\n",
              " (1, 'Berry'),\n",
              " (2, 'Banana'),\n",
              " (2, 'आंबा'),\n",
              " (2, 'संत्रा'),\n",
              " (2, 'Cherry'),\n",
              " (2, 'लिंबू'),\n",
              " (3, 'Apple'),\n",
              " (3, 'केळी'),\n",
              " (3, 'सफरचंद'),\n",
              " (3, 'Mango'),\n",
              " (4, 'पेरू')]"
            ]
          },
          "metadata": {},
          "execution_count": 31
        }
      ]
    },
    {
      "cell_type": "code",
      "source": [
        "#can use above or this code for sorting \n",
        "rdd5=rdd4.map(lambda x:(x[0],x[1])).sortByKey()\n",
        "rdd5.collect()"
      ],
      "metadata": {
        "colab": {
          "base_uri": "https://localhost:8080/"
        },
        "id": "nRxacocVMSl-",
        "outputId": "e1b9d7bd-ec4b-4764-adc2-1d826dc4d5ba"
      },
      "execution_count": null,
      "outputs": [
        {
          "output_type": "execute_result",
          "data": {
            "text/plain": [
              "[('Apple', 3),\n",
              " ('Banana', 2),\n",
              " ('Berry', 1),\n",
              " ('Cherry', 2),\n",
              " ('Mango', 3),\n",
              " ('Pineapple', 1),\n",
              " ('आंबा', 2),\n",
              " ('केळी', 3),\n",
              " ('पेरू', 4),\n",
              " ('लिंबू', 2),\n",
              " ('संत्र', 1),\n",
              " ('संत्रा', 2),\n",
              " ('सफरचंद', 3)]"
            ]
          },
          "metadata": {},
          "execution_count": 33
        }
      ]
    },
    {
      "cell_type": "code",
      "source": [
        "rdd6=rdd3.filter(lambda x: x[0].startswith('B'))\n",
        "print(rdd6.collect())"
      ],
      "metadata": {
        "colab": {
          "base_uri": "https://localhost:8080/"
        },
        "id": "byA3BdoEMrFD",
        "outputId": "1a3f9846-a320-4605-e297-f016e49e5654"
      },
      "execution_count": null,
      "outputs": [
        {
          "output_type": "stream",
          "name": "stdout",
          "text": [
            "[('Banana', 1), ('Berry', 1), ('Banana', 1)]\n"
          ]
        }
      ]
    },
    {
      "cell_type": "markdown",
      "source": [
        "word count program "
      ],
      "metadata": {
        "id": "x7n5loCfPm9K"
      }
    },
    {
      "cell_type": "code",
      "source": [
        "#read the input file Calculating word count\n",
        "text_file=sc.textFile('/content/drive/MyDrive/Colab Notebooks/spark/dataset/fruits1.txt')\n",
        "counts=text_file.flatMap(lambda line: line.split(\" \"))\\\n",
        "                          .map(lambda word: (word,1))\\\n",
        "                          .reduceByKey(lambda x,y: x+y)"
      ],
      "metadata": {
        "id": "JF9LXA7pOIP_"
      },
      "execution_count": null,
      "outputs": []
    },
    {
      "cell_type": "code",
      "source": [
        "#Printing each word with its respective count \n",
        "output=counts.collect()\n",
        "for(word,count) in output:\n",
        "      print(\"%s,%i\"%(word,count))"
      ],
      "metadata": {
        "colab": {
          "base_uri": "https://localhost:8080/"
        },
        "id": "QemAX3tuOpPe",
        "outputId": "c5e2b274-8966-4e19-9b89-68137f91969c"
      },
      "execution_count": null,
      "outputs": [
        {
          "output_type": "stream",
          "name": "stdout",
          "text": [
            "Pineapple,1\n",
            "Apple,3\n",
            "Berry,1\n",
            "Cherry,2\n",
            "Mango,3\n",
            "Banana,2\n"
          ]
        }
      ]
    },
    {
      "cell_type": "markdown",
      "source": [
        "counting avg of numbers from a file"
      ],
      "metadata": {
        "id": "ee_-wzcoWaSU"
      }
    },
    {
      "cell_type": "code",
      "source": [
        "\n",
        "df=sc.textFile('/content/drive/MyDrive/Colab Notebooks/spark/dataset/ages.txt')\n",
        "counts=df.flatMap(lambda line: line.split())\\\n",
        "                        .filter(lambda x: x.isdigit())\\\n",
        "                        .map(lambda word: (1,int(word)))\n"
      ],
      "metadata": {
        "id": "4wbiklgUPCOl"
      },
      "execution_count": null,
      "outputs": []
    },
    {
      "cell_type": "code",
      "source": [
        "def average(rdd):\n",
        "  add=0; count=0\n",
        "  for x,y in rdd.collect():\n",
        "    add += y\n",
        "    count +=1\n",
        "    return(sc.parallelize(['Average is ',add/count]))"
      ],
      "metadata": {
        "id": "qDv-UVUNR4i5"
      },
      "execution_count": null,
      "outputs": []
    },
    {
      "cell_type": "code",
      "source": [
        "val=average(counts)\n",
        "val.collect()"
      ],
      "metadata": {
        "colab": {
          "base_uri": "https://localhost:8080/"
        },
        "id": "ZwAZn2pHV2YU",
        "outputId": "ae559743-6973-4aeb-8930-0b0216e315e9"
      },
      "execution_count": null,
      "outputs": [
        {
          "output_type": "execute_result",
          "data": {
            "text/plain": [
              "['Average is ', 23.0]"
            ]
          },
          "metadata": {},
          "execution_count": 59
        }
      ]
    },
    {
      "cell_type": "code",
      "source": [
        "Basic functions     "
      ],
      "metadata": {
        "id": "LVwS9aYAXqz9"
      },
      "execution_count": null,
      "outputs": []
    },
    {
      "cell_type": "code",
      "source": [
        "rdd=sc.parallelize([1,2,3,4,5,6,7,8])"
      ],
      "metadata": {
        "id": "EEuMaT23WEwv"
      },
      "execution_count": null,
      "outputs": []
    },
    {
      "cell_type": "code",
      "source": [
        "print(\"Count : \"+str(rdd.count()))"
      ],
      "metadata": {
        "colab": {
          "base_uri": "https://localhost:8080/"
        },
        "id": "nOEok-_VXvQq",
        "outputId": "b3f955d4-375e-4058-8b57-fbc37afacf13"
      },
      "execution_count": null,
      "outputs": [
        {
          "output_type": "stream",
          "name": "stdout",
          "text": [
            "Count : 8\n"
          ]
        }
      ]
    },
    {
      "cell_type": "code",
      "source": [
        "firstRec=rdd.first()\n",
        "print(\"First Record :\",str(firstRec))"
      ],
      "metadata": {
        "colab": {
          "base_uri": "https://localhost:8080/"
        },
        "id": "wgRfSKT7X3XL",
        "outputId": "84e7824a-2a3f-462d-c1e7-229cc5ea0e7a"
      },
      "execution_count": null,
      "outputs": [
        {
          "output_type": "stream",
          "name": "stdout",
          "text": [
            "First Record : 1\n"
          ]
        }
      ]
    },
    {
      "cell_type": "code",
      "source": [
        "print('Maximum',rdd.max())"
      ],
      "metadata": {
        "colab": {
          "base_uri": "https://localhost:8080/"
        },
        "id": "t8KesRlJYCzO",
        "outputId": "e4b5f6a9-a0e2-4901-88ff-bc4c391b82d9"
      },
      "execution_count": null,
      "outputs": [
        {
          "output_type": "stream",
          "name": "stdout",
          "text": [
            "Maximum 8\n"
          ]
        }
      ]
    },
    {
      "cell_type": "code",
      "source": [
        "print('Take 3:',rdd.take(3))"
      ],
      "metadata": {
        "colab": {
          "base_uri": "https://localhost:8080/"
        },
        "id": "Mnbhmk8WYKiQ",
        "outputId": "702f3a47-db5a-4174-f31a-1fa77a9f7787"
      },
      "execution_count": null,
      "outputs": [
        {
          "output_type": "stream",
          "name": "stdout",
          "text": [
            "Take 3: [1, 2, 3]\n"
          ]
        }
      ]
    },
    {
      "cell_type": "code",
      "source": [
        "rdd.sum()"
      ],
      "metadata": {
        "colab": {
          "base_uri": "https://localhost:8080/"
        },
        "id": "eLFHQ5-wYaY7",
        "outputId": "3d7b951a-a216-4472-fe2f-7e313744ca75"
      },
      "execution_count": null,
      "outputs": [
        {
          "output_type": "execute_result",
          "data": {
            "text/plain": [
              "36"
            ]
          },
          "metadata": {},
          "execution_count": 66
        }
      ]
    },
    {
      "cell_type": "code",
      "source": [
        "rdd.mean()"
      ],
      "metadata": {
        "colab": {
          "base_uri": "https://localhost:8080/"
        },
        "id": "KEcudx7HYcUw",
        "outputId": "46c300dd-eda8-430a-ea2e-b262266d5cfe"
      },
      "execution_count": null,
      "outputs": [
        {
          "output_type": "execute_result",
          "data": {
            "text/plain": [
              "4.5"
            ]
          },
          "metadata": {},
          "execution_count": 67
        }
      ]
    },
    {
      "cell_type": "code",
      "source": [],
      "metadata": {
        "id": "t-oWLBLDYe5J"
      },
      "execution_count": null,
      "outputs": []
    },
    {
      "cell_type": "code",
      "source": [],
      "metadata": {
        "id": "LrCj5A9QYgY5"
      },
      "execution_count": null,
      "outputs": []
    }
  ]
}