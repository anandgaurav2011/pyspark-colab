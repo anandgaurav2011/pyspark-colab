{
  "nbformat": 4,
  "nbformat_minor": 0,
  "metadata": {
    "colab": {
      "provenance": [],
      "mount_file_id": "1tqZqa7JSwpBGAUNGzCBmLgjArDS1jxS4",
      "authorship_tag": "ABX9TyP5dW8CFBtd5j55vVMNUNm4",
      "include_colab_link": true
    },
    "kernelspec": {
      "name": "python3",
      "display_name": "Python 3"
    },
    "language_info": {
      "name": "python"
    }
  },
  "cells": [
    {
      "cell_type": "markdown",
      "metadata": {
        "id": "view-in-github",
        "colab_type": "text"
      },
      "source": [
        "<a href=\"https://colab.research.google.com/github/anandgaurav2011/pyspark-colab/blob/main/Social_Network_As_pyspark.ipynb\" target=\"_parent\"><img src=\"https://colab.research.google.com/assets/colab-badge.svg\" alt=\"Open In Colab\"/></a>"
      ]
    },
    {
      "cell_type": "code",
      "execution_count": null,
      "metadata": {
        "colab": {
          "base_uri": "https://localhost:8080/"
        },
        "id": "rWWfHpcX0n_L",
        "outputId": "58dd5ad4-d135-4225-ca24-8fa64be068e4"
      },
      "outputs": [
        {
          "output_type": "stream",
          "name": "stdout",
          "text": [
            "Looking in indexes: https://pypi.org/simple, https://us-python.pkg.dev/colab-wheels/public/simple/\n",
            "Collecting pyspark\n",
            "  Downloading pyspark-3.3.1.tar.gz (281.4 MB)\n",
            "\u001b[2K     \u001b[90m━━━━━━━━━━━━━━━━━━━━━━━━━━━━━━━━━━━━━━━\u001b[0m \u001b[32m281.4/281.4 MB\u001b[0m \u001b[31m3.7 MB/s\u001b[0m eta \u001b[36m0:00:00\u001b[0m\n",
            "\u001b[?25h  Preparing metadata (setup.py) ... \u001b[?25l\u001b[?25hdone\n",
            "Collecting py4j==0.10.9.5\n",
            "  Downloading py4j-0.10.9.5-py2.py3-none-any.whl (199 kB)\n",
            "\u001b[2K     \u001b[90m━━━━━━━━━━━━━━━━━━━━━━━━━━━━━━━━━━━━━━━\u001b[0m \u001b[32m199.7/199.7 KB\u001b[0m \u001b[31m2.2 MB/s\u001b[0m eta \u001b[36m0:00:00\u001b[0m\n",
            "\u001b[?25hBuilding wheels for collected packages: pyspark\n",
            "  Building wheel for pyspark (setup.py) ... \u001b[?25l\u001b[?25hdone\n",
            "  Created wheel for pyspark: filename=pyspark-3.3.1-py2.py3-none-any.whl size=281845512 sha256=860ed7c8e8e7bd3f0b95ecc078e0ac327dbceed34d681b2ffadf34b1aa277c3c\n",
            "  Stored in directory: /root/.cache/pip/wheels/43/dc/11/ec201cd671da62fa9c5cc77078235e40722170ceba231d7598\n",
            "Successfully built pyspark\n",
            "Installing collected packages: py4j, pyspark\n",
            "Successfully installed py4j-0.10.9.5 pyspark-3.3.1\n"
          ]
        }
      ],
      "source": [
        "pip install pyspark"
      ]
    },
    {
      "cell_type": "code",
      "source": [
        "import pyspark\n",
        "from pyspark.sql import SparkSession"
      ],
      "metadata": {
        "id": "mifct6TG0wy1"
      },
      "execution_count": null,
      "outputs": []
    },
    {
      "cell_type": "code",
      "source": [
        "spark = SparkSession.builder.master('local[4]').appName('ml').getOrCreate()"
      ],
      "metadata": {
        "id": "AwmMhu2X09Wy"
      },
      "execution_count": null,
      "outputs": []
    },
    {
      "cell_type": "code",
      "source": [
        "df = spark.read.csv(\"/content/drive/MyDrive/sample_data/Social_Network_Ads.csv\",header=True,inferSchema=True)"
      ],
      "metadata": {
        "id": "RWq_vL3U0-f9"
      },
      "execution_count": null,
      "outputs": []
    },
    {
      "cell_type": "code",
      "source": [
        "df.count()"
      ],
      "metadata": {
        "colab": {
          "base_uri": "https://localhost:8080/"
        },
        "id": "kdexfAut1M5_",
        "outputId": "ac958ce8-a0d2-4bbf-e621-3d7bd3fc6fee"
      },
      "execution_count": null,
      "outputs": [
        {
          "output_type": "execute_result",
          "data": {
            "text/plain": [
              "400"
            ]
          },
          "metadata": {},
          "execution_count": 5
        }
      ]
    },
    {
      "cell_type": "code",
      "source": [
        "df.show(5)"
      ],
      "metadata": {
        "colab": {
          "base_uri": "https://localhost:8080/"
        },
        "id": "WRZpeZDf1Pqn",
        "outputId": "4930a58f-9421-4fa7-c5ba-fabaaa72c51a"
      },
      "execution_count": null,
      "outputs": [
        {
          "output_type": "stream",
          "name": "stdout",
          "text": [
            "+--------+------+----+---------------+---------+\n",
            "| User ID|Gender| Age|EstimatedSalary|Purchased|\n",
            "+--------+------+----+---------------+---------+\n",
            "|15624510|  Male|19.0|        19000.0|        0|\n",
            "|15810944|  Male|35.0|        20000.0|        0|\n",
            "|15668575|Female|26.0|        43000.0|        0|\n",
            "|15603246|Female|27.0|        57000.0|        0|\n",
            "|15804002|  Male|19.0|        76000.0|        0|\n",
            "+--------+------+----+---------------+---------+\n",
            "only showing top 5 rows\n",
            "\n"
          ]
        }
      ]
    },
    {
      "cell_type": "code",
      "source": [
        "df.summary().show()"
      ],
      "metadata": {
        "colab": {
          "base_uri": "https://localhost:8080/"
        },
        "id": "ASfKPKf01Rcv",
        "outputId": "6e3aa10d-4473-4574-93b8-c483cc2ee3b2"
      },
      "execution_count": null,
      "outputs": [
        {
          "output_type": "stream",
          "name": "stdout",
          "text": [
            "+-------+-----------------+------+------------------+----------------+------------------+\n",
            "|summary|          User ID|Gender|               Age| EstimatedSalary|         Purchased|\n",
            "+-------+-----------------+------+------------------+----------------+------------------+\n",
            "|  count|              400|   400|               400|             400|               400|\n",
            "|   mean|  1.56915397575E7|  null|            37.655|         69742.5|            0.3575|\n",
            "| stddev|71658.32158119006|  null|10.482876597307927|34096.9602824248|0.4798639635968691|\n",
            "|    min|         15566689|Female|              18.0|         15000.0|                 0|\n",
            "|    25%|         15625395|  null|              29.0|         43000.0|                 0|\n",
            "|    50%|         15694288|  null|              37.0|         70000.0|                 0|\n",
            "|    75%|         15750335|  null|              46.0|         88000.0|                 1|\n",
            "|    max|         15815236|  Male|              60.0|        150000.0|                 1|\n",
            "+-------+-----------------+------+------------------+----------------+------------------+\n",
            "\n"
          ]
        }
      ]
    },
    {
      "cell_type": "code",
      "source": [
        "pdf = df.toPandas()"
      ],
      "metadata": {
        "id": "LLG7geir1S46"
      },
      "execution_count": null,
      "outputs": []
    },
    {
      "cell_type": "code",
      "source": [
        "df.groupby('Purchased').count().show()"
      ],
      "metadata": {
        "colab": {
          "base_uri": "https://localhost:8080/"
        },
        "id": "PB9yzD1t1Vzy",
        "outputId": "f48efa61-15a8-41e1-baed-7bac37a47609"
      },
      "execution_count": null,
      "outputs": [
        {
          "output_type": "stream",
          "name": "stdout",
          "text": [
            "+---------+-----+\n",
            "|Purchased|count|\n",
            "+---------+-----+\n",
            "|        1|  143|\n",
            "|        0|  257|\n",
            "+---------+-----+\n",
            "\n"
          ]
        }
      ]
    },
    {
      "cell_type": "code",
      "source": [
        "pdf['Purchased'].value_counts()"
      ],
      "metadata": {
        "colab": {
          "base_uri": "https://localhost:8080/"
        },
        "id": "bYvvY5En1d1x",
        "outputId": "b0cfc2e6-19c9-4aa9-dc82-d1962ac5121f"
      },
      "execution_count": null,
      "outputs": [
        {
          "output_type": "execute_result",
          "data": {
            "text/plain": [
              "0    257\n",
              "1    143\n",
              "Name: Purchased, dtype: int64"
            ]
          },
          "metadata": {},
          "execution_count": 10
        }
      ]
    },
    {
      "cell_type": "code",
      "source": [
        "pdf['Purchased'].value_counts().plot.bar()"
      ],
      "metadata": {
        "colab": {
          "base_uri": "https://localhost:8080/",
          "height": 280
        },
        "id": "twSHbsbc1hdh",
        "outputId": "24b2366b-fcf6-4b10-efc4-7aeb369b3887"
      },
      "execution_count": null,
      "outputs": [
        {
          "output_type": "execute_result",
          "data": {
            "text/plain": [
              "<matplotlib.axes._subplots.AxesSubplot at 0x7f5acade1880>"
            ]
          },
          "metadata": {},
          "execution_count": 11
        },
        {
          "output_type": "display_data",
          "data": {
            "text/plain": [
              "<Figure size 432x288 with 1 Axes>"
            ],
            "image/png": "[encoded data removed]"
          },
          "metadata": {
            "needs_background": "light"
          }
        }
      ]
    },
    {
      "cell_type": "code",
      "source": [
        "import seaborn as sns\n",
        "sns.countplot(x=pdf['Purchased'])"
      ],
      "metadata": {
        "colab": {
          "base_uri": "https://localhost:8080/",
          "height": 297
        },
        "id": "gGctJKkP1k4c",
        "outputId": "3751184f-f004-4399-9a5b-7a58b7b971b8"
      },
      "execution_count": null,
      "outputs": [
        {
          "output_type": "execute_result",
          "data": {
            "text/plain": [
              "<matplotlib.axes._subplots.AxesSubplot at 0x7f5ac30feaf0>"
            ]
          },
          "metadata": {},
          "execution_count": 12
        },
        {
          "output_type": "display_data",
          "data": {
            "text/plain": [
              "<Figure size 432x288 with 1 Axes>"
            ],
            "image/png": "[encoded data removed]"
          },
          "metadata": {
            "needs_background": "light"
          }
        }
      ]
    },
    {
      "cell_type": "code",
      "source": [
        "round(pdf['Purchased'].value_counts()[0]/len(pdf),2)*100"
      ],
      "metadata": {
        "colab": {
          "base_uri": "https://localhost:8080/"
        },
        "id": "cm3cy9B21oCn",
        "outputId": "c62c4f0c-f3f1-498e-c9f4-e07340d582cf"
      },
      "execution_count": null,
      "outputs": [
        {
          "output_type": "execute_result",
          "data": {
            "text/plain": [
              "64.0"
            ]
          },
          "metadata": {},
          "execution_count": 13
        }
      ]
    },
    {
      "cell_type": "code",
      "source": [
        "round(pdf['Purchased'].value_counts()[1]/len(pdf),2)*100"
      ],
      "metadata": {
        "colab": {
          "base_uri": "https://localhost:8080/"
        },
        "id": "UlbQiJsk1sEG",
        "outputId": "b7ebcfa6-bbc2-4646-cb68-a646b572b1ee"
      },
      "execution_count": null,
      "outputs": [
        {
          "output_type": "execute_result",
          "data": {
            "text/plain": [
              "36.0"
            ]
          },
          "metadata": {},
          "execution_count": 14
        }
      ]
    },
    {
      "cell_type": "code",
      "source": [
        "pdf.isnull().sum()"
      ],
      "metadata": {
        "colab": {
          "base_uri": "https://localhost:8080/"
        },
        "id": "BFKjklNO1u1d",
        "outputId": "7fee31f8-5950-4486-a7a9-a6cdcb615872"
      },
      "execution_count": null,
      "outputs": [
        {
          "output_type": "execute_result",
          "data": {
            "text/plain": [
              "User ID            0\n",
              "Gender             0\n",
              "Age                0\n",
              "EstimatedSalary    0\n",
              "Purchased          0\n",
              "dtype: int64"
            ]
          },
          "metadata": {},
          "execution_count": 15
        }
      ]
    },
    {
      "cell_type": "code",
      "source": [
        "from pyspark.sql.functions import isnull, when, count, col"
      ],
      "metadata": {
        "id": "ceNnLKKk1wM6"
      },
      "execution_count": null,
      "outputs": []
    },
    {
      "cell_type": "code",
      "source": [],
      "metadata": {
        "id": "_sEEZAmS2YpI"
      },
      "execution_count": null,
      "outputs": []
    },
    {
      "cell_type": "code",
      "source": [
        "# no missing values\n",
        "df.select([count(when(isnull(c),c)).alias(c) for c in df.columns]).show()"
      ],
      "metadata": {
        "colab": {
          "base_uri": "https://localhost:8080/"
        },
        "id": "T9BzXB-k1yFp",
        "outputId": "ef367e84-12d5-42f8-aed9-1fdc92537637"
      },
      "execution_count": null,
      "outputs": [
        {
          "output_type": "stream",
          "name": "stdout",
          "text": [
            "+-------+------+---+---------------+---------+\n",
            "|User ID|Gender|Age|EstimatedSalary|Purchased|\n",
            "+-------+------+---+---------------+---------+\n",
            "|      0|     0|  0|              0|        0|\n",
            "+-------+------+---+---------------+---------+\n",
            "\n"
          ]
        }
      ]
    },
    {
      "cell_type": "code",
      "source": [
        "#df = df.withColumn(\"Gender\", when(df.Gender == \"Male\", \"Female\").when(df.Gender == 1,0))"
      ],
      "metadata": {
        "id": "Dv-vuD6G2aeb"
      },
      "execution_count": null,
      "outputs": []
    },
    {
      "cell_type": "code",
      "source": [
        "# Assemble the features\n",
        "required_features = ['Age','EstimatedSalary']"
      ],
      "metadata": {
        "id": "SMpu3a0w1zUN"
      },
      "execution_count": null,
      "outputs": []
    },
    {
      "cell_type": "code",
      "source": [
        "pdf[required_features]"
      ],
      "metadata": {
        "colab": {
          "base_uri": "https://localhost:8080/",
          "height": 423
        },
        "id": "LR7kjY3z18xz",
        "outputId": "ea7c6c55-86af-4779-e2d3-05feb49f2dc8"
      },
      "execution_count": null,
      "outputs": [
        {
          "output_type": "execute_result",
          "data": {
            "text/plain": [
              "      Age  EstimatedSalary\n",
              "0    19.0          19000.0\n",
              "1    35.0          20000.0\n",
              "2    26.0          43000.0\n",
              "3    27.0          57000.0\n",
              "4    19.0          76000.0\n",
              "..    ...              ...\n",
              "395  46.0          41000.0\n",
              "396  51.0          23000.0\n",
              "397  50.0          20000.0\n",
              "398  36.0          33000.0\n",
              "399  49.0          36000.0\n",
              "\n",
              "[400 rows x 2 columns]"
            ],
            "text/html": [
              "\n",
              "  <div id=\"df-155b7244-8ac1-425a-a0d0-b46f2a3a8409\">\n",
              "    <div class=\"colab-df-container\">\n",
              "      <div>\n",
              "<style scoped>\n",
              "    .dataframe tbody tr th:only-of-type {\n",
              "        vertical-align: middle;\n",
              "    }\n",
              "\n",
              "    .dataframe tbody tr th {\n",
              "        vertical-align: top;\n",
              "    }\n",
              "\n",
              "    .dataframe thead th {\n",
              "        text-align: right;\n",
              "    }\n",
              "</style>\n",
              "<table border=\"1\" class=\"dataframe\">\n",
              "  <thead>\n",
              "    <tr style=\"text-align: right;\">\n",
              "      <th></th>\n",
              "      <th>Age</th>\n",
              "      <th>EstimatedSalary</th>\n",
              "    </tr>\n",
              "  </thead>\n",
              "  <tbody>\n",
              "    <tr>\n",
              "      <th>0</th>\n",
              "      <td>19.0</td>\n",
              "      <td>19000.0</td>\n",
              "    </tr>\n",
              "    <tr>\n",
              "      <th>1</th>\n",
              "      <td>35.0</td>\n",
              "      <td>20000.0</td>\n",
              "    </tr>\n",
              "    <tr>\n",
              "      <th>2</th>\n",
              "      <td>26.0</td>\n",
              "      <td>43000.0</td>\n",
              "    </tr>\n",
              "    <tr>\n",
              "      <th>3</th>\n",
              "      <td>27.0</td>\n",
              "      <td>57000.0</td>\n",
              "    </tr>\n",
              "    <tr>\n",
              "      <th>4</th>\n",
              "      <td>19.0</td>\n",
              "      <td>76000.0</td>\n",
              "    </tr>\n",
              "    <tr>\n",
              "      <th>...</th>\n",
              "      <td>...</td>\n",
              "      <td>...</td>\n",
              "    </tr>\n",
              "    <tr>\n",
              "      <th>395</th>\n",
              "      <td>46.0</td>\n",
              "      <td>41000.0</td>\n",
              "    </tr>\n",
              "    <tr>\n",
              "      <th>396</th>\n",
              "      <td>51.0</td>\n",
              "      <td>23000.0</td>\n",
              "    </tr>\n",
              "    <tr>\n",
              "      <th>397</th>\n",
              "      <td>50.0</td>\n",
              "      <td>20000.0</td>\n",
              "    </tr>\n",
              "    <tr>\n",
              "      <th>398</th>\n",
              "      <td>36.0</td>\n",
              "      <td>33000.0</td>\n",
              "    </tr>\n",
              "    <tr>\n",
              "      <th>399</th>\n",
              "      <td>49.0</td>\n",
              "      <td>36000.0</td>\n",
              "    </tr>\n",
              "  </tbody>\n",
              "</table>\n",
              "<p>400 rows × 2 columns</p>\n",
              "</div>\n",
              "      <button class=\"colab-df-convert\" onclick=\"convertToInteractive('df-155b7244-8ac1-425a-a0d0-b46f2a3a8409')\"\n",
              "              title=\"Convert this dataframe to an interactive table.\"\n",
              "              style=\"display:none;\">\n",
              "        \n",
              "  <svg xmlns=\"http://www.w3.org/2000/svg\" height=\"24px\"viewBox=\"0 0 24 24\"\n",
              "       width=\"24px\">\n",
              "    <path d=\"M0 0h24v24H0V0z\" fill=\"none\"/>\n",
              "    <path d=\"M18.56 5.44l.94 2.06.94-2.06 2.06-.94-2.06-.94-.94-2.06-.94 2.06-2.06.94zm-11 1L8.5 8.5l.94-2.06 2.06-.94-2.06-.94L8.5 2.5l-.94 2.06-2.06.94zm10 10l.94 2.06.94-2.06 2.06-.94-2.06-.94-.94-2.06-.94 2.06-2.06.94z\"/><path d=\"M17.41 7.96l-1.37-1.37c-.4-.4-.92-.59-1.43-.59-.52 0-1.04.2-1.43.59L10.3 9.45l-7.72 7.72c-.78.78-.78 2.05 0 2.83L4 21.41c.39.39.9.59 1.41.59.51 0 1.02-.2 1.41-.59l7.78-7.78 2.81-2.81c.8-.78.8-2.07 0-2.86zM5.41 20L4 18.59l7.72-7.72 1.47 1.35L5.41 20z\"/>\n",
              "  </svg>\n",
              "      </button>\n",
              "      \n",
              "  <style>\n",
              "    .colab-df-container {\n",
              "      display:flex;\n",
              "      flex-wrap:wrap;\n",
              "      gap: 12px;\n",
              "    }\n",
              "\n",
              "    .colab-df-convert {\n",
              "      background-color: #E8F0FE;\n",
              "      border: none;\n",
              "      border-radius: 50%;\n",
              "      cursor: pointer;\n",
              "      display: none;\n",
              "      fill: #1967D2;\n",
              "      height: 32px;\n",
              "      padding: 0 0 0 0;\n",
              "      width: 32px;\n",
              "    }\n",
              "\n",
              "    .colab-df-convert:hover {\n",
              "      background-color: #E2EBFA;\n",
              "      box-shadow: 0px 1px 2px rgba(60, 64, 67, 0.3), 0px 1px 3px 1px rgba(60, 64, 67, 0.15);\n",
              "      fill: #174EA6;\n",
              "    }\n",
              "\n",
              "    [theme=dark] .colab-df-convert {\n",
              "      background-color: #3B4455;\n",
              "      fill: #D2E3FC;\n",
              "    }\n",
              "\n",
              "    [theme=dark] .colab-df-convert:hover {\n",
              "      background-color: #434B5C;\n",
              "      box-shadow: 0px 1px 3px 1px rgba(0, 0, 0, 0.15);\n",
              "      filter: drop-shadow(0px 1px 2px rgba(0, 0, 0, 0.3));\n",
              "      fill: #FFFFFF;\n",
              "    }\n",
              "  </style>\n",
              "\n",
              "      <script>\n",
              "        const buttonEl =\n",
              "          document.querySelector('#df-155b7244-8ac1-425a-a0d0-b46f2a3a8409 button.colab-df-convert');\n",
              "        buttonEl.style.display =\n",
              "          google.colab.kernel.accessAllowed ? 'block' : 'none';\n",
              "\n",
              "        async function convertToInteractive(key) {\n",
              "          const element = document.querySelector('#df-155b7244-8ac1-425a-a0d0-b46f2a3a8409');\n",
              "          const dataTable =\n",
              "            await google.colab.kernel.invokeFunction('convertToInteractive',\n",
              "                                                     [key], {});\n",
              "          if (!dataTable) return;\n",
              "\n",
              "          const docLinkHtml = 'Like what you see? Visit the ' +\n",
              "            '<a target=\"_blank\" href=https://colab.research.google.com/notebooks/data_table.ipynb>data table notebook</a>'\n",
              "            + ' to learn more about interactive tables.';\n",
              "          element.innerHTML = '';\n",
              "          dataTable['output_type'] = 'display_data';\n",
              "          await google.colab.output.renderOutput(dataTable, element);\n",
              "          const docLink = document.createElement('div');\n",
              "          docLink.innerHTML = docLinkHtml;\n",
              "          element.appendChild(docLink);\n",
              "        }\n",
              "      </script>\n",
              "    </div>\n",
              "  </div>\n",
              "  "
            ]
          },
          "metadata": {},
          "execution_count": 44
        }
      ]
    },
    {
      "cell_type": "code",
      "source": [
        "# import the vector assembler clas\n",
        "from pyspark.ml.feature import VectorAssembler"
      ],
      "metadata": {
        "id": "LaT8xM-y199l"
      },
      "execution_count": null,
      "outputs": []
    },
    {
      "cell_type": "code",
      "source": [
        "# create the object\n",
        "assembler = VectorAssembler(inputCols=required_features,outputCol='features')"
      ],
      "metadata": {
        "id": "2uQstq8Y1_nf"
      },
      "execution_count": null,
      "outputs": []
    },
    {
      "cell_type": "code",
      "source": [
        "transformed_data = assembler.transform(df)"
      ],
      "metadata": {
        "id": "n1T9ezou2CHs"
      },
      "execution_count": null,
      "outputs": []
    },
    {
      "cell_type": "code",
      "source": [
        "transformed_data.show(5)"
      ],
      "metadata": {
        "colab": {
          "base_uri": "https://localhost:8080/"
        },
        "id": "UU80VS6V2DRL",
        "outputId": "9bbae6d0-41f7-4fff-d20f-dd8050432381"
      },
      "execution_count": null,
      "outputs": [
        {
          "output_type": "stream",
          "name": "stdout",
          "text": [
            "+--------+------+----+---------------+---------+--------------+\n",
            "| User ID|Gender| Age|EstimatedSalary|Purchased|      features|\n",
            "+--------+------+----+---------------+---------+--------------+\n",
            "|15624510|  null|19.0|        19000.0|        0|[19.0,19000.0]|\n",
            "|15810944|  null|35.0|        20000.0|        0|[35.0,20000.0]|\n",
            "|15668575|  null|26.0|        43000.0|        0|[26.0,43000.0]|\n",
            "|15603246|  null|27.0|        57000.0|        0|[27.0,57000.0]|\n",
            "|15804002|  null|19.0|        76000.0|        0|[19.0,76000.0]|\n",
            "+--------+------+----+---------------+---------+--------------+\n",
            "only showing top 5 rows\n",
            "\n"
          ]
        }
      ]
    },
    {
      "cell_type": "code",
      "source": [
        "# split the data in train & test\n",
        "training_data, test_data = transformed_data.randomSplit([0.75, 0.25], seed = 0)"
      ],
      "metadata": {
        "id": "pIAxKeyT5Jq2"
      },
      "execution_count": null,
      "outputs": []
    },
    {
      "cell_type": "code",
      "source": [
        "training_data.count()"
      ],
      "metadata": {
        "colab": {
          "base_uri": "https://localhost:8080/"
        },
        "id": "jY0TtErn5K4n",
        "outputId": "46c99510-d9a5-491f-a352-c35b976dd3d9"
      },
      "execution_count": null,
      "outputs": [
        {
          "output_type": "execute_result",
          "data": {
            "text/plain": [
              "301"
            ]
          },
          "metadata": {},
          "execution_count": 50
        }
      ]
    },
    {
      "cell_type": "code",
      "source": [
        "test_data.count()"
      ],
      "metadata": {
        "colab": {
          "base_uri": "https://localhost:8080/"
        },
        "id": "1Z5B4KKY5MBL",
        "outputId": "d2c9f161-19a0-4fcf-ae5a-cfdcdd85da39"
      },
      "execution_count": null,
      "outputs": [
        {
          "output_type": "execute_result",
          "data": {
            "text/plain": [
              "99"
            ]
          },
          "metadata": {},
          "execution_count": 51
        }
      ]
    },
    {
      "cell_type": "code",
      "source": [
        "training_data.groupby('Purchased').count().show()"
      ],
      "metadata": {
        "colab": {
          "base_uri": "https://localhost:8080/"
        },
        "id": "1quNOrzN5Mqr",
        "outputId": "aacdcfd4-06df-4850-ec6a-10bb619da2ec"
      },
      "execution_count": null,
      "outputs": [
        {
          "output_type": "stream",
          "name": "stdout",
          "text": [
            "+---------+-----+\n",
            "|Purchased|count|\n",
            "+---------+-----+\n",
            "|        1|  109|\n",
            "|        0|  192|\n",
            "+---------+-----+\n",
            "\n"
          ]
        }
      ]
    },
    {
      "cell_type": "code",
      "source": [
        "test_data.groupby('Purchased').count().show()"
      ],
      "metadata": {
        "colab": {
          "base_uri": "https://localhost:8080/"
        },
        "id": "79efDdHi5Rn4",
        "outputId": "7b43bed7-8224-41a2-da3c-c460237c4a15"
      },
      "execution_count": null,
      "outputs": [
        {
          "output_type": "stream",
          "name": "stdout",
          "text": [
            "+---------+-----+\n",
            "|Purchased|count|\n",
            "+---------+-----+\n",
            "|        1|   34|\n",
            "|        0|   65|\n",
            "+---------+-----+\n",
            "\n"
          ]
        }
      ]
    },
    {
      "cell_type": "code",
      "source": [
        "training_data.groupby('Purchased').count().select('count').show()"
      ],
      "metadata": {
        "colab": {
          "base_uri": "https://localhost:8080/"
        },
        "id": "3l99B8SQ5fnc",
        "outputId": "fc16a3ba-13c0-497a-8070-7051876e390c"
      },
      "execution_count": null,
      "outputs": [
        {
          "output_type": "stream",
          "name": "stdout",
          "text": [
            "+-----+\n",
            "|count|\n",
            "+-----+\n",
            "|  109|\n",
            "|  192|\n",
            "+-----+\n",
            "\n"
          ]
        }
      ]
    },
    {
      "cell_type": "code",
      "source": [
        "test_data.groupby('Purchased').count().show()"
      ],
      "metadata": {
        "colab": {
          "base_uri": "https://localhost:8080/"
        },
        "id": "bkndbFm85jRm",
        "outputId": "a2fccd61-8e23-484f-d528-1532aa3319cf"
      },
      "execution_count": null,
      "outputs": [
        {
          "output_type": "stream",
          "name": "stdout",
          "text": [
            "+---------+-----+\n",
            "|Purchased|count|\n",
            "+---------+-----+\n",
            "|        1|   34|\n",
            "|        0|   65|\n",
            "+---------+-----+\n",
            "\n"
          ]
        }
      ]
    },
    {
      "cell_type": "code",
      "source": [
        "from pyspark.ml.classification import RandomForestClassifier"
      ],
      "metadata": {
        "id": "KZAtBp6L5mln"
      },
      "execution_count": null,
      "outputs": []
    },
    {
      "cell_type": "code",
      "source": [
        "df = RandomForestClassifier(labelCol='Purchased',featuresCol='features')"
      ],
      "metadata": {
        "id": "m1prMJgO5s0M"
      },
      "execution_count": null,
      "outputs": []
    },
    {
      "cell_type": "code",
      "source": [
        "# train the model\n",
        "model = df.fit(training_data)"
      ],
      "metadata": {
        "id": "hcFilIr35x6k"
      },
      "execution_count": null,
      "outputs": []
    },
    {
      "cell_type": "code",
      "source": [
        "# predictions on unseen data\n",
        "predictions = model.transform(test_data)"
      ],
      "metadata": {
        "id": "oG4mz8sS5zjq"
      },
      "execution_count": null,
      "outputs": []
    },
    {
      "cell_type": "code",
      "source": [
        "predictions.show()"
      ],
      "metadata": {
        "colab": {
          "base_uri": "https://localhost:8080/"
        },
        "id": "fxvSw38052d0",
        "outputId": "b04f806c-669b-4dfe-a872-e09ab5e2a92c"
      },
      "execution_count": null,
      "outputs": [
        {
          "output_type": "stream",
          "name": "stdout",
          "text": [
            "+--------+------+----+---------------+---------+---------------+--------------------+--------------------+----------+\n",
            "| User ID|Gender| Age|EstimatedSalary|Purchased|       features|       rawPrediction|         probability|prediction|\n",
            "+--------+------+----+---------------+---------+---------------+--------------------+--------------------+----------+\n",
            "|15566689|  null|35.0|        57000.0|        0| [35.0,57000.0]|[19.8615298962731...|[0.99307649481365...|       0.0|\n",
            "|15581198|  null|31.0|        74000.0|        0| [31.0,74000.0]|[19.7808847349828...|[0.98904423674914...|       0.0|\n",
            "|15581282|  null|37.0|        74000.0|        0| [37.0,74000.0]|[17.7475412464456...|[0.88737706232228...|       0.0|\n",
            "|15584320|  null|37.0|       146000.0|        1|[37.0,146000.0]|[1.55851379447671...|[0.07792568972383...|       1.0|\n",
            "|15584545|  null|32.0|        86000.0|        0| [32.0,86000.0]|[19.7808847349828...|[0.98904423674914...|       0.0|\n",
            "|15586757|  null|39.0|       134000.0|        1|[39.0,134000.0]|[1.55851379447671...|[0.07792568972383...|       1.0|\n",
            "|15587177|  null|40.0|        65000.0|        0| [40.0,65000.0]|[19.6629500929273...|[0.98314750464636...|       0.0|\n",
            "|15589449|  null|39.0|       106000.0|        1|[39.0,106000.0]|[3.91136927233219...|[0.19556846361660...|       1.0|\n",
            "|15589715|  null|48.0|       119000.0|        1|[48.0,119000.0]|[2.72168945003815...|[0.13608447250190...|       1.0|\n",
            "|15591433|  null|36.0|        52000.0|        0| [36.0,52000.0]|[19.8615298962731...|[0.99307649481365...|       0.0|\n",
            "|15592877|  null|32.0|        18000.0|        0| [32.0,18000.0]|[19.8615298962731...|[0.99307649481365...|       0.0|\n",
            "|15595228|  null|20.0|        23000.0|        0| [20.0,23000.0]|[19.8615298962731...|[0.99307649481365...|       0.0|\n",
            "|15595324|  null|31.0|        68000.0|        0| [31.0,68000.0]|[19.1115298962731...|[0.95557649481365...|       0.0|\n",
            "|15596761|  null|36.0|       125000.0|        1|[36.0,125000.0]|[1.83124106720398...|[0.09156205336019...|       1.0|\n",
            "|15600379|  null|48.0|        90000.0|        1| [48.0,90000.0]|[1.74494526399163...|[0.08724726319958...|       1.0|\n",
            "|15600575|  null|25.0|        33000.0|        0| [25.0,33000.0]|[19.8615298962731...|[0.99307649481365...|       0.0|\n",
            "|15601550|  null|36.0|        54000.0|        0| [36.0,54000.0]|[19.8615298962731...|[0.99307649481365...|       0.0|\n",
            "|15603319|  null|33.0|        43000.0|        0| [33.0,43000.0]|[19.8615298962731...|[0.99307649481365...|       0.0|\n",
            "|15609637|  null|41.0|        72000.0|        0| [41.0,72000.0]|[18.3530561579088...|[0.91765280789544...|       0.0|\n",
            "|15609653|  null|35.0|        47000.0|        0| [35.0,47000.0]|[19.8615298962731...|[0.99307649481365...|       0.0|\n",
            "+--------+------+----+---------------+---------+---------------+--------------------+--------------------+----------+\n",
            "only showing top 20 rows\n",
            "\n"
          ]
        }
      ]
    },
    {
      "cell_type": "code",
      "source": [
        "pdf1 = predictions.select('prediction').toPandas()"
      ],
      "metadata": {
        "id": "879pNl1P53hV"
      },
      "execution_count": null,
      "outputs": []
    },
    {
      "cell_type": "code",
      "source": [
        "from sklearn.metrics import accuracy_score, ConfusionMatrixDisplay, classification_report"
      ],
      "metadata": {
        "id": "WnuyYHBu54pn"
      },
      "execution_count": null,
      "outputs": []
    },
    {
      "cell_type": "code",
      "source": [
        "pred = predictions.select('prediction').toPandas()\n",
        "actual = test_data.select('Purchased').toPandas()\n",
        "\n",
        "ConfusionMatrixDisplay.from_predictions(actual, pred)"
      ],
      "metadata": {
        "colab": {
          "base_uri": "https://localhost:8080/",
          "height": 301
        },
        "id": "j1GzUpK-559x",
        "outputId": "f3dab25b-e047-4744-b7b3-d9c8dc7a1ca7"
      },
      "execution_count": null,
      "outputs": [
        {
          "output_type": "execute_result",
          "data": {
            "text/plain": [
              "<sklearn.metrics._plot.confusion_matrix.ConfusionMatrixDisplay at 0x7f5ac1b2df10>"
            ]
          },
          "metadata": {},
          "execution_count": 63
        },
        {
          "output_type": "display_data",
          "data": {
            "text/plain": [
              "<Figure size 432x288 with 2 Axes>"
            ],
            "image/png": "[encoded data removed]"
          },
          "metadata": {
            "needs_background": "light"
          }
        }
      ]
    },
    {
      "cell_type": "code",
      "source": [
        "accuracy_score(actual, pred)"
      ],
      "metadata": {
        "colab": {
          "base_uri": "https://localhost:8080/"
        },
        "id": "mGEafO4X58y3",
        "outputId": "c74c33fa-b191-4fce-d6a3-dd7d3ce435a1"
      },
      "execution_count": null,
      "outputs": [
        {
          "output_type": "execute_result",
          "data": {
            "text/plain": [
              "0.9191919191919192"
            ]
          },
          "metadata": {},
          "execution_count": 64
        }
      ]
    },
    {
      "cell_type": "code",
      "source": [
        "print(classification_report(actual, pred))"
      ],
      "metadata": {
        "colab": {
          "base_uri": "https://localhost:8080/"
        },
        "id": "AzSz4kRy5-GT",
        "outputId": "de6c124f-5877-4440-8cb4-91562db6d714"
      },
      "execution_count": null,
      "outputs": [
        {
          "output_type": "stream",
          "name": "stdout",
          "text": [
            "              precision    recall  f1-score   support\n",
            "\n",
            "           0       0.95      0.92      0.94        65\n",
            "           1       0.86      0.91      0.89        34\n",
            "\n",
            "    accuracy                           0.92        99\n",
            "   macro avg       0.91      0.92      0.91        99\n",
            "weighted avg       0.92      0.92      0.92        99\n",
            "\n"
          ]
        }
      ]
    },
    {
      "cell_type": "code",
      "source": [
        "# import the evaluation class\n",
        "from pyspark.ml.evaluation import MulticlassClassificationEvaluator"
      ],
      "metadata": {
        "id": "I_beSPkT5_Fr"
      },
      "execution_count": null,
      "outputs": []
    },
    {
      "cell_type": "code",
      "source": [
        "eval = MulticlassClassificationEvaluator(labelCol='Purchased',metricName='accuracy')"
      ],
      "metadata": {
        "id": "Rr4eouE76AsI"
      },
      "execution_count": null,
      "outputs": []
    },
    {
      "cell_type": "code",
      "source": [
        "print(\"Accuracy:\", eval.evaluate(predictions))"
      ],
      "metadata": {
        "colab": {
          "base_uri": "https://localhost:8080/"
        },
        "id": "w-3kHrH66B0i",
        "outputId": "4903e06d-1c48-4445-b17f-5210d4fc315c"
      },
      "execution_count": null,
      "outputs": [
        {
          "output_type": "stream",
          "name": "stdout",
          "text": [
            "Accuracy: 0.9191919191919192\n"
          ]
        }
      ]
    },
    {
      "cell_type": "code",
      "source": [],
      "metadata": {
        "id": "J4sHm2dz6Fel"
      },
      "execution_count": null,
      "outputs": []
    }
  ]
}